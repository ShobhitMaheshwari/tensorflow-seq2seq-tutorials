{
 "cells": [
  {
   "cell_type": "markdown",
   "metadata": {},
   "source": [
    "# Bidirectional inputs"
   ]
  },
  {
   "cell_type": "code",
   "execution_count": 1,
   "metadata": {},
   "outputs": [
    {
     "data": {
      "text/plain": [
       "'1.0.0'"
      ]
     },
     "execution_count": 1,
     "metadata": {},
     "output_type": "execute_result"
    }
   ],
   "source": [
    "import numpy as np\n",
    "import tensorflow as tf\n",
    "import helpers\n",
    "\n",
    "tf.reset_default_graph()\n",
    "sess = tf.InteractiveSession()\n",
    "tf.__version__"
   ]
  },
  {
   "cell_type": "code",
   "execution_count": 2,
   "metadata": {
    "collapsed": true
   },
   "outputs": [],
   "source": [
    "PAD = 0\n",
    "EOS = 1\n",
    "UNK = 2\n",
    "\n",
    "#change this to 10 for the original example to work\n",
    "vocab_size = 10\n",
    "input_embedding_size = 20\n",
    "\n",
    "encoder_hidden_units = 20\n",
    "decoder_hidden_units = encoder_hidden_units * 2"
   ]
  },
  {
   "cell_type": "code",
   "execution_count": 3,
   "metadata": {
    "collapsed": true
   },
   "outputs": [],
   "source": [
    "encoder_inputs = tf.placeholder(shape=(None, None), dtype=tf.int32, name='encoder_inputs')\n",
    "encoder_inputs_length = tf.placeholder(shape=(None,), dtype=tf.int32, name='encoder_inputs_length')\n",
    "\n",
    "encoder_inputs2 = tf.placeholder(shape=(None, None), dtype=tf.int32, name='encoder_inputs')\n",
    "encoder_inputs_length2 = tf.placeholder(shape=(None,), dtype=tf.int32, name='encoder_inputs_length')\n",
    "\n",
    "decoder_targets = tf.placeholder(shape=(None, None), dtype=tf.int32, name='decoder_targets')\n",
    "# decoder_lengths = tf.placeholder(shape=(None,), dtype=tf.int32, name='decoder_lengths')"
   ]
  },
  {
   "cell_type": "code",
   "execution_count": 4,
   "metadata": {
    "collapsed": true
   },
   "outputs": [],
   "source": [
    "embeddings = tf.Variable(tf.random_uniform([vocab_size, input_embedding_size], -1.0, 1.0), dtype=tf.float32)\n",
    "\n",
    "encoder_inputs_embedded = tf.nn.embedding_lookup(embeddings, encoder_inputs)\n",
    "encoder_inputs_embedded2 = tf.nn.embedding_lookup(embeddings, encoder_inputs2)"
   ]
  },
  {
   "cell_type": "code",
   "execution_count": 5,
   "metadata": {
    "collapsed": true
   },
   "outputs": [],
   "source": [
    "from tensorflow.contrib.rnn import LSTMCell, LSTMStateTuple\n",
    "encoder_cell = LSTMCell(encoder_hidden_units)"
   ]
  },
  {
   "cell_type": "code",
   "execution_count": 6,
   "metadata": {
    "collapsed": true
   },
   "outputs": [],
   "source": [
    "with tf.variable_scope('first'):\n",
    "    ((encoder_fw_outputs,\n",
    "      encoder_bw_outputs),\n",
    "     (encoder_fw_final_state,\n",
    "      encoder_bw_final_state)) = (\n",
    "        tf.nn.bidirectional_dynamic_rnn(cell_fw=encoder_cell,\n",
    "                                        cell_bw=encoder_cell,\n",
    "                                        inputs=encoder_inputs_embedded,\n",
    "                                        sequence_length=encoder_inputs_length,\n",
    "                                        dtype=tf.float32, time_major=True)\n",
    "        )\n",
    "with tf.variable_scope('second'):\n",
    "    ((encoder_fw_outputs2,\n",
    "      encoder_bw_outputs2),\n",
    "     (encoder_fw_final_state2,\n",
    "      encoder_bw_final_state2)) = (\n",
    "        tf.nn.bidirectional_dynamic_rnn(cell_fw=encoder_cell,\n",
    "                                        cell_bw=encoder_cell,\n",
    "                                        inputs=encoder_inputs_embedded2,\n",
    "                                        sequence_length=encoder_inputs_length2,\n",
    "                                        dtype=tf.float32, time_major=True)\n",
    "        )"
   ]
  },
  {
   "cell_type": "code",
   "execution_count": 7,
   "metadata": {},
   "outputs": [
    {
     "data": {
      "text/plain": [
       "<tf.Tensor 'first/bidirectional_rnn/fw/fw/TensorArrayStack/TensorArrayGatherV3:0' shape=(?, ?, 20) dtype=float32>"
      ]
     },
     "execution_count": 7,
     "metadata": {},
     "output_type": "execute_result"
    }
   ],
   "source": [
    "encoder_fw_outputs"
   ]
  },
  {
   "cell_type": "code",
   "execution_count": 8,
   "metadata": {},
   "outputs": [
    {
     "data": {
      "text/plain": [
       "<tf.Tensor 'first/ReverseSequence:0' shape=(?, ?, 20) dtype=float32>"
      ]
     },
     "execution_count": 8,
     "metadata": {},
     "output_type": "execute_result"
    }
   ],
   "source": [
    "encoder_bw_outputs"
   ]
  },
  {
   "cell_type": "code",
   "execution_count": 9,
   "metadata": {},
   "outputs": [
    {
     "data": {
      "text/plain": [
       "LSTMStateTuple(c=<tf.Tensor 'first/bidirectional_rnn/fw/fw/while/Exit_2:0' shape=(?, 20) dtype=float32>, h=<tf.Tensor 'first/bidirectional_rnn/fw/fw/while/Exit_3:0' shape=(?, 20) dtype=float32>)"
      ]
     },
     "execution_count": 9,
     "metadata": {},
     "output_type": "execute_result"
    }
   ],
   "source": [
    "encoder_fw_final_state"
   ]
  },
  {
   "cell_type": "code",
   "execution_count": 10,
   "metadata": {},
   "outputs": [
    {
     "data": {
      "text/plain": [
       "LSTMStateTuple(c=<tf.Tensor 'first/bidirectional_rnn/bw/bw/while/Exit_2:0' shape=(?, 20) dtype=float32>, h=<tf.Tensor 'first/bidirectional_rnn/bw/bw/while/Exit_3:0' shape=(?, 20) dtype=float32>)"
      ]
     },
     "execution_count": 10,
     "metadata": {},
     "output_type": "execute_result"
    }
   ],
   "source": [
    "encoder_bw_final_state"
   ]
  },
  {
   "cell_type": "code",
   "execution_count": 11,
   "metadata": {
    "collapsed": true
   },
   "outputs": [],
   "source": [
    "encoder_outputs = tf.concat((encoder_fw_outputs, encoder_bw_outputs), 2)\n",
    "\n",
    "encoder_final_state_c = tf.concat(\n",
    "    (encoder_fw_final_state.c, encoder_bw_final_state.c), 1)\n",
    "\n",
    "encoder_final_state_h = tf.concat(\n",
    "    (encoder_fw_final_state.h, encoder_bw_final_state.h), 1)\n",
    "\n",
    "encoder_final_state = LSTMStateTuple(\n",
    "    c=encoder_final_state_c,\n",
    "    h=encoder_final_state_h\n",
    ")"
   ]
  },
  {
   "cell_type": "code",
   "execution_count": 12,
   "metadata": {
    "collapsed": true
   },
   "outputs": [],
   "source": [
    "encoder_outputs2 = tf.concat((encoder_fw_outputs2, encoder_bw_outputs2), 2)\n",
    "\n",
    "encoder_final_state_c2 = tf.concat(\n",
    "    (encoder_fw_final_state2.c, encoder_bw_final_state2.c), 1)\n",
    "\n",
    "encoder_final_state_h2 = tf.concat(\n",
    "    (encoder_fw_final_state2.h, encoder_bw_final_state2.h), 1)\n",
    "\n",
    "encoder_final_state2 = LSTMStateTuple(\n",
    "    c=encoder_final_state_c2,\n",
    "    h=encoder_final_state_h2\n",
    ")"
   ]
  },
  {
   "cell_type": "code",
   "execution_count": 13,
   "metadata": {
    "collapsed": true
   },
   "outputs": [],
   "source": [
    "combined_state = LSTMStateTuple(\n",
    "    c=tf.concat([encoder_final_state.c, encoder_final_state2.c], 1),\n",
    "    h=tf.concat([encoder_final_state.h, encoder_final_state2.h], 1)\n",
    ")"
   ]
  },
  {
   "cell_type": "code",
   "execution_count": 14,
   "metadata": {},
   "outputs": [
    {
     "data": {
      "text/plain": [
       "80"
      ]
     },
     "execution_count": 14,
     "metadata": {},
     "output_type": "execute_result"
    }
   ],
   "source": [
    "combined_state.c.get_shape().as_list()[1]"
   ]
  },
  {
   "cell_type": "code",
   "execution_count": 15,
   "metadata": {},
   "outputs": [],
   "source": [
    "#A fully connected layer between encoder_final_state.c (encoder_hidden_units) and decoder_hidden_units\n",
    "def multilayer_perceptron(x, w, b):\n",
    "    layer_1 = tf.add(tf.matmul(x, w), b)\n",
    "    return tf.nn.relu(layer_1)\n",
    "    \n",
    "with tf.variable_scope('c'):\n",
    "    wc = tf.Variable(tf.random_normal([combined_state.c.get_shape().as_list()[1], decoder_hidden_units]))\n",
    "    bc = tf.Variable(tf.random_normal([decoder_hidden_units]))\n",
    "    \n",
    "with tf.variable_scope('h'):\n",
    "    wh = tf.Variable(tf.random_normal([combined_state.h.get_shape().as_list()[1], decoder_hidden_units]))\n",
    "    bh = tf.Variable(tf.random_normal([decoder_hidden_units]))\n",
    "projected_state = tf.contrib.rnn.LSTMStateTuple(\n",
    "    c=multilayer_perceptron(combined_state.c, wc, bc),\n",
    "    h=multilayer_perceptron(combined_state.h, wh, bh),\n",
    ")"
   ]
  },
  {
   "cell_type": "code",
   "execution_count": 16,
   "metadata": {
    "collapsed": true
   },
   "outputs": [],
   "source": [
    "decoder_cell = LSTMCell(decoder_hidden_units)"
   ]
  },
  {
   "cell_type": "code",
   "execution_count": 17,
   "metadata": {
    "collapsed": true
   },
   "outputs": [],
   "source": [
    "encoder_max_time, batch_size = tf.unstack(tf.shape(encoder_inputs))"
   ]
  },
  {
   "cell_type": "code",
   "execution_count": 18,
   "metadata": {
    "collapsed": true
   },
   "outputs": [],
   "source": [
    "decoder_lengths = tf.maximum(encoder_inputs_length, encoder_inputs_length2) + 3"
   ]
  },
  {
   "cell_type": "code",
   "execution_count": 19,
   "metadata": {
    "collapsed": true
   },
   "outputs": [],
   "source": [
    "W = tf.Variable(tf.random_uniform([decoder_hidden_units, vocab_size], -1, 1), dtype=tf.float32)\n",
    "b = tf.Variable(tf.zeros([vocab_size]), dtype=tf.float32)"
   ]
  },
  {
   "cell_type": "code",
   "execution_count": 20,
   "metadata": {
    "collapsed": true
   },
   "outputs": [],
   "source": [
    "assert EOS == 1 and PAD == 0\n",
    "\n",
    "eos_time_slice = tf.ones([batch_size], dtype=tf.int32, name='EOS')\n",
    "pad_time_slice = tf.zeros([batch_size], dtype=tf.int32, name='PAD')\n",
    "\n",
    "eos_step_embedded = tf.nn.embedding_lookup(embeddings, eos_time_slice)\n",
    "pad_step_embedded = tf.nn.embedding_lookup(embeddings, pad_time_slice)"
   ]
  },
  {
   "cell_type": "code",
   "execution_count": 21,
   "metadata": {
    "collapsed": true
   },
   "outputs": [],
   "source": [
    "def loop_fn_initial():\n",
    "    initial_elements_finished = (0 >= decoder_lengths)  # all False at the initial step\n",
    "    initial_input = eos_step_embedded\n",
    "    initial_cell_state = projected_state\n",
    "    initial_cell_output = None\n",
    "    initial_loop_state = None  # we don't need to pass any additional information\n",
    "    return (initial_elements_finished,\n",
    "            initial_input,\n",
    "            initial_cell_state,\n",
    "            initial_cell_output,\n",
    "            initial_loop_state)"
   ]
  },
  {
   "cell_type": "code",
   "execution_count": 22,
   "metadata": {
    "collapsed": true
   },
   "outputs": [],
   "source": [
    "def loop_fn_transition(time, previous_output, previous_state, previous_loop_state):\n",
    "\n",
    "    def get_next_input():\n",
    "        output_logits = tf.add(tf.matmul(previous_output, W), b)\n",
    "        prediction = tf.argmax(output_logits, axis=1)\n",
    "        next_input = tf.nn.embedding_lookup(embeddings, prediction)\n",
    "        return next_input\n",
    "    \n",
    "    elements_finished = (time >= decoder_lengths) # this operation produces boolean tensor of [batch_size]\n",
    "                                                  # defining if corresponding sequence has ended\n",
    "\n",
    "    finished = tf.reduce_all(elements_finished) # -> boolean scalar\n",
    "    input = tf.cond(finished, lambda: pad_step_embedded, get_next_input)\n",
    "    state = previous_state\n",
    "    output = previous_output\n",
    "    loop_state = None\n",
    "\n",
    "    return (elements_finished, \n",
    "            input,\n",
    "            state,\n",
    "            output,\n",
    "            loop_state)"
   ]
  },
  {
   "cell_type": "code",
   "execution_count": 23,
   "metadata": {
    "collapsed": true
   },
   "outputs": [],
   "source": [
    "def loop_fn(time, previous_output, previous_state, previous_loop_state):\n",
    "    if previous_state is None:    # time == 0\n",
    "        assert previous_output is None and previous_state is None\n",
    "        return loop_fn_initial()\n",
    "    else:\n",
    "        return loop_fn_transition(time, previous_output, previous_state, previous_loop_state)\n",
    "\n",
    "decoder_outputs_ta, decoder_final_state, _ = tf.nn.raw_rnn(decoder_cell, loop_fn)\n",
    "decoder_outputs = decoder_outputs_ta.stack()"
   ]
  },
  {
   "cell_type": "code",
   "execution_count": 24,
   "metadata": {},
   "outputs": [
    {
     "data": {
      "text/plain": [
       "<tf.Tensor 'TensorArrayStack/TensorArrayGatherV3:0' shape=(?, ?, 40) dtype=float32>"
      ]
     },
     "execution_count": 24,
     "metadata": {},
     "output_type": "execute_result"
    }
   ],
   "source": [
    "decoder_outputs"
   ]
  },
  {
   "cell_type": "code",
   "execution_count": 25,
   "metadata": {
    "collapsed": true
   },
   "outputs": [],
   "source": [
    "decoder_max_steps, decoder_batch_size, decoder_dim = tf.unstack(tf.shape(decoder_outputs))\n",
    "decoder_outputs_flat = tf.reshape(decoder_outputs, (-1, decoder_dim))\n",
    "decoder_logits_flat = tf.add(tf.matmul(decoder_outputs_flat, W), b)\n",
    "decoder_logits = tf.reshape(decoder_logits_flat, (decoder_max_steps, decoder_batch_size, vocab_size))"
   ]
  },
  {
   "cell_type": "code",
   "execution_count": 26,
   "metadata": {
    "collapsed": true
   },
   "outputs": [],
   "source": [
    "decoder_prediction = tf.argmax(decoder_logits, 2)"
   ]
  },
  {
   "cell_type": "code",
   "execution_count": 27,
   "metadata": {
    "collapsed": true
   },
   "outputs": [],
   "source": [
    "stepwise_cross_entropy = tf.nn.softmax_cross_entropy_with_logits(\n",
    "    labels=tf.one_hot(decoder_targets, depth=vocab_size, dtype=tf.float32),\n",
    "    logits=decoder_logits,\n",
    ")\n",
    "\n",
    "loss = tf.reduce_mean(stepwise_cross_entropy)\n",
    "train_op = tf.train.AdamOptimizer().minimize(loss)"
   ]
  },
  {
   "cell_type": "code",
   "execution_count": 28,
   "metadata": {
    "collapsed": true
   },
   "outputs": [],
   "source": [
    "sess.run(tf.global_variables_initializer())"
   ]
  },
  {
   "cell_type": "code",
   "execution_count": 29,
   "metadata": {},
   "outputs": [
    {
     "name": "stdout",
     "output_type": "stream",
     "text": [
      "head of the batch:\n",
      "[3, 3, 6, 9, 2]\n",
      "[8, 3, 7, 3]\n",
      "[3, 4, 7, 8, 9]\n",
      "[8, 7, 6, 4, 9, 5]\n",
      "[8, 8, 5, 5]\n",
      "[2, 3, 2, 9]\n",
      "[3, 8, 5, 9, 8]\n",
      "[4, 2, 6, 8]\n",
      "[7, 6, 5]\n",
      "[2, 2, 2, 9, 3]\n"
     ]
    }
   ],
   "source": [
    "batch_size = 100\n",
    "\n",
    "batches = helpers.random_sequences(length_from=3, length_to=8,\n",
    "                                   vocab_lower=2, vocab_upper=10,\n",
    "                                   batch_size=batch_size)\n",
    "\n",
    "print('head of the batch:')\n",
    "for seq in next(batches)[:10]:\n",
    "    print(seq)"
   ]
  },
  {
   "cell_type": "code",
   "execution_count": 30,
   "metadata": {
    "collapsed": true
   },
   "outputs": [],
   "source": [
    "def add(batch1, batch2):\n",
    "    targetSeq = []\n",
    "    for i in range(0, max(len(batch1), len(batch2))):\n",
    "        if i >=len(batch1):\n",
    "            targetSeq.append((int)(batch2[i]/2))\n",
    "        elif i >=len(batch2):\n",
    "            targetSeq.append((int)(batch1[i])/2)\n",
    "        else:\n",
    "            targetSeq.append((int)((batch1[i]+batch2[i])/2))\n",
    "    return targetSeq\n",
    "def next_feed():\n",
    "    batch1 = next(batches)\n",
    "    batch2 = next(batches)\n",
    "    encoder_inputs_1, encoder_input_lengths_1 = helpers.batch(batch1)\n",
    "    encoder_inputs_2, encoder_input_lengths_2 = helpers.batch(batch2)\n",
    "    \n",
    "    decoder_targets_, _ = helpers.batch(\n",
    "    [add(x,y)  + [EOS] + [PAD] * 2 for x,y in zip(batch1, batch2)]\n",
    "    )\n",
    "    return {\n",
    "        encoder_inputs: encoder_inputs_1,\n",
    "        encoder_inputs_length: encoder_input_lengths_1,\n",
    "        encoder_inputs2: encoder_inputs_2,\n",
    "        encoder_inputs_length2: encoder_input_lengths_2,\n",
    "        decoder_targets: decoder_targets_,\n",
    "    }"
   ]
  },
  {
   "cell_type": "code",
   "execution_count": 31,
   "metadata": {},
   "outputs": [
    {
     "name": "stdout",
     "output_type": "stream",
     "text": [
      "batch 0\n",
      "  minibatch loss: 2.5091679096221924\n",
      "  sample 1:\n",
      "    input     > [5 4 9 3 4 8 8 0]\n",
      "    input     > [4 3 7 9 0 0 0 0]\n",
      "    predicted > [4 4 4 4 2 4 4 2 4 2 0]\n",
      "  sample 2:\n",
      "    input     > [4 8 7 4 0 0 0 0]\n",
      "    input     > [5 9 7 3 6 0 0 0]\n",
      "    predicted > [4 4 4 4 2 4 4 2 0 0 0]\n",
      "  sample 3:\n",
      "    input     > [3 4 9 9 3 7 4 0]\n",
      "    input     > [9 9 9 5 8 6 7 6]\n",
      "    predicted > [4 4 4 4 4 2 2 4 4 2 4]\n",
      "\n",
      "batch 1000\n",
      "  minibatch loss: 0.9064642786979675\n",
      "  sample 1:\n",
      "    input     > [5 3 4 3 4 6 0 0]\n",
      "    input     > [3 2 4 4 0 0 0 0]\n",
      "    predicted > [4 3 3 3 3 3 1 0 0 0 0]\n",
      "  sample 2:\n",
      "    input     > [8 4 7 7 0 0 0 0]\n",
      "    input     > [5 5 2 0 0 0 0 0]\n",
      "    predicted > [6 5 4 3 1 0 0 0 0 0 0]\n",
      "  sample 3:\n",
      "    input     > [3 3 3 8 2 0 0 0]\n",
      "    input     > [6 7 3 9 0 0 0 0]\n",
      "    predicted > [4 4 5 4 1 1 0 0 0 0 0]\n",
      "\n",
      "batch 2000\n",
      "  minibatch loss: 0.6291081309318542\n",
      "  sample 1:\n",
      "    input     > [2 5 3 0 0 0 0 0]\n",
      "    input     > [9 2 9 9 2 0 0 0]\n",
      "    predicted > [5 4 4 4 1 1 0 0 0 0 0]\n",
      "  sample 2:\n",
      "    input     > [2 3 7 4 0 0 0 0]\n",
      "    input     > [8 6 2 9 9 6 4 0]\n",
      "    predicted > [5 4 4 5 4 2 2 1 0 0 0]\n",
      "  sample 3:\n",
      "    input     > [5 7 4 9 5 0 0 0]\n",
      "    input     > [2 3 6 8 0 0 0 0]\n",
      "    predicted > [3 5 6 8 2 1 0 0 0 0 0]\n",
      "\n",
      "batch 3000\n",
      "  minibatch loss: 0.4606470763683319\n",
      "  sample 1:\n",
      "    input     > [3 6 8 0 0 0 0 0]\n",
      "    input     > [9 6 6 2 9 5 0 0]\n",
      "    predicted > [6 6 7 2 2 2 1 0 0 0 0]\n",
      "  sample 2:\n",
      "    input     > [4 6 5 7 9 0 0 0]\n",
      "    input     > [6 3 3 5 4 7 3 0]\n",
      "    predicted > [5 4 4 6 5 3 1 1 0 0 0]\n",
      "  sample 3:\n",
      "    input     > [8 3 3 3 0 0 0 0]\n",
      "    input     > [7 9 6 0 0 0 0 0]\n",
      "    predicted > [7 6 4 1 1 0 0 0 0 0 0]\n",
      "\n"
     ]
    }
   ],
   "source": [
    "loss_track = []\n",
    "max_batches = 3001\n",
    "batches_in_epoch = 1000\n",
    "\n",
    "try:\n",
    "    for batch in range(max_batches):\n",
    "        fd = next_feed()\n",
    "        _, l = sess.run([train_op, loss], fd)\n",
    "        loss_track.append(l)\n",
    "\n",
    "        if batch == 0 or batch % batches_in_epoch == 0:\n",
    "            print('batch {}'.format(batch))\n",
    "            print('  minibatch loss: {}'.format(sess.run(loss, fd)))\n",
    "            predict_ = sess.run(decoder_prediction, fd)\n",
    "            for i, (inp1, inp2, pred) in enumerate(zip(fd[encoder_inputs].T, fd[encoder_inputs2].T, predict_.T)):\n",
    "                print('  sample {}:'.format(i + 1))\n",
    "                print('    input     > {}'.format(inp1))\n",
    "                print('    input     > {}'.format(inp2))\n",
    "                print('    predicted > {}'.format(pred))\n",
    "                if i >= 2:\n",
    "                    break\n",
    "            print()\n",
    "\n",
    "except KeyboardInterrupt:\n",
    "    print('training interrupted')"
   ]
  },
  {
   "cell_type": "code",
   "execution_count": 32,
   "metadata": {},
   "outputs": [
    {
     "name": "stdout",
     "output_type": "stream",
     "text": [
      "loss 0.4518 after 300100 examples (batch_size=100)\n"
     ]
    },
    {
     "data": {
      "image/png": "[encoded data removed]",
      "text/plain": [
       "<matplotlib.figure.Figure at 0x7fb218b80b70>"
      ]
     },
     "metadata": {},
     "output_type": "display_data"
    }
   ],
   "source": [
    "%matplotlib inline\n",
    "import matplotlib.pyplot as plt\n",
    "plt.plot(loss_track)\n",
    "print('loss {:.4f} after {} examples (batch_size={})'.format(loss_track[-1], len(loss_track)*batch_size, batch_size))"
   ]
  },
  {
   "cell_type": "markdown",
   "metadata": {},
   "source": [
    "# Convert above stuff for sentences"
   ]
  },
  {
   "cell_type": "code",
   "execution_count": 32,
   "metadata": {
    "collapsed": true
   },
   "outputs": [],
   "source": [
    "import data, random, numpy as np\n",
    "train,test = data.readfnp()\n",
    "max_batches = 30001\n",
    "ran = np.random.randint(1, high=4, size=max_batches)\n",
    "idx = []\n",
    "for batch in range(max_batches):\n",
    "    idx.append(np.random.choice(len(train[ran[batch]]),size=100, replace=False))"
   ]
  },
  {
   "cell_type": "code",
   "execution_count": 40,
   "metadata": {
    "collapsed": true
   },
   "outputs": [],
   "source": [
    "#save this stuff \n",
    "import pickle\n",
    "pickle.dump( (ran, idx), open( \"randomstuff\", \"wb\" ) )"
   ]
  },
  {
   "cell_type": "code",
   "execution_count": 41,
   "metadata": {
    "collapsed": true
   },
   "outputs": [],
   "source": [
    "def next_feed2(i):\n",
    "    samples = data.getnextr(100, train, ran[i], idx[i])\n",
    "    batch1 = [x for x,y,z in samples]\n",
    "    batch2 = [y for x,y,z in samples]\n",
    "    encoder_inputs_1, encoder_input_lengths_1 = helpers.batch(batch1)\n",
    "    encoder_inputs_2, encoder_input_lengths_2 = helpers.batch(batch2)\n",
    "    \n",
    "    max_len = max(encoder_inputs_1.shape[0], encoder_inputs_2.shape[0])\n",
    "    encoder_inputs_1_r = np.zeros((max_len, 100), dtype=np.int32)\n",
    "    encoder_inputs_1_r[:encoder_inputs_1.shape[0], :encoder_inputs_1.shape[1]] = encoder_inputs_1\n",
    "    \n",
    "    encoder_inputs_2_r = np.zeros((max_len, 100), dtype=np.int32)\n",
    "    encoder_inputs_2_r[:encoder_inputs_2.shape[0], :encoder_inputs_2.shape[1]] = encoder_inputs_2\n",
    "    \n",
    "    decoder_targets_, oo = helpers.batch(\n",
    "    [z  + [EOS] + [PAD] * 2 for x,y,z in samples]\n",
    "    )\n",
    "    return {\n",
    "        encoder_inputs: encoder_inputs_1_r,\n",
    "        encoder_inputs_length: encoder_input_lengths_1,\n",
    "        encoder_inputs2: encoder_inputs_2_r,\n",
    "        encoder_inputs_length2: encoder_input_lengths_2,\n",
    "        decoder_targets: decoder_targets_,\n",
    "        decoder_lengths: oo\n",
    "    }"
   ]
  },
  {
   "cell_type": "code",
   "execution_count": 42,
   "metadata": {},
   "outputs": [
    {
     "name": "stdout",
     "output_type": "stream",
     "text": [
      "0\n",
      "batch 0\n",
      "  minibatch loss: 10.728058815002441\n",
      "  sample 1:\n",
      "    input     > ['``', 'i', 'scratch', 'your', 'back', ',', 'you', 'scratch', 'mine', \"''\", 'is', 'what', 'he', 'said', '.', 'PAD', 'PAD', 'PAD', 'PAD']\n",
      "    input     > ['i', \"'m\", 'not', 'taking', 'care', 'of', 'merlot', ',', 'that', 'would', 'involve', 'me', 'seeing', 'him', 'more', 'than', 'once', '.', 'PAD']\n",
      "    predicted > ['psychic', 'twigs', 'twang', 'twigs', 'ytmnd', 'airing', 'shion', 'airing', 'katie', 'bobcat', 'powering', 'sudanese', 'sudanese', 'krystal', 'hoboken', 'avocados', 'gale']\n",
      "  sample 2:\n",
      "    input     > ['quatre', 'asked', 'with', 'a', 'smile', 'on', 'his', 'face', '.', 'PAD', 'PAD', 'PAD', 'PAD', 'PAD', 'PAD', 'PAD', 'PAD', 'PAD', 'PAD']\n",
      "    input     > ['yzak', 'nodded', 'lightly', ',', 'watching', 'the', 'cup', 'of', 'tea', 'he', 'still', 'touched', 'with', 'his', 'fingertips', '.', 'PAD', 'PAD', 'PAD']\n",
      "    predicted > ['rearview', 'rearview', 'puzzles', 'puzzles', 'puzzles', 'insurmountable', '/i', 'flagging', 'vigorously', '/i', 'PAD', 'PAD', 'PAD', 'PAD', 'PAD', 'PAD', 'PAD']\n",
      "  sample 3:\n",
      "    input     > ['so', 'i', 'stayed', '.', 'PAD', 'PAD', 'PAD', 'PAD', 'PAD', 'PAD', 'PAD', 'PAD', 'PAD', 'PAD', 'PAD', 'PAD', 'PAD', 'PAD', 'PAD']\n",
      "    input     > ['we', 'went', 'to', 'a', 'little', 'pub', 'to', 'start', 'drinking', 'before', 'the', 'club', 'opened', '.', 'PAD', 'PAD', 'PAD', 'PAD', 'PAD']\n",
      "    predicted > ['mannie', 'mannie', 'mannie', 'emergency', '06', 'painters', 'urgency', 'resurfacing', 'revelation', 'revelation', 'outrageously', 'panama', 'vinnie', 'vinnie', 'PAD', 'PAD', 'PAD']\n",
      "\n",
      "30\n",
      "60\n",
      "90\n",
      "120\n",
      "150\n",
      "180\n",
      "210\n",
      "240\n",
      "270\n",
      "300\n",
      "330\n",
      "360\n",
      "390\n",
      "420\n",
      "450\n",
      "480\n",
      "510\n",
      "540\n",
      "570\n",
      "600\n",
      "630\n",
      "660\n",
      "690\n",
      "720\n",
      "750\n",
      "780\n",
      "810\n",
      "840\n",
      "870\n",
      "900\n",
      "930\n",
      "960\n",
      "990\n",
      "batch 1000\n",
      "  minibatch loss: 6.318912029266357\n",
      "  sample 1:\n",
      "    input     > ['amy', 'made', 'some', 'bagels', 'with', 'cream', 'cheese', 'and', 'tomatoes', 'and', 'we', 'settled', 'down', 'for', 'a', 'snack', '.', 'PAD', 'PAD']\n",
      "    input     > ['mtv', 'news', 'was', 'on', 'the', 'tube', 'and', 'we', 'soon', 'heard', 'the', 'news', 'of', 'garcia', \"'s\", 'death', '.', 'PAD', 'PAD']\n",
      "    predicted > ['i', 'was', 'EOS', '.', 'PAD', 'PAD', 'PAD', 'PAD', 'PAD', 'PAD', 'PAD', 'PAD', 'PAD', 'PAD', 'PAD', 'PAD', 'PAD']\n",
      "  sample 2:\n",
      "    input     > ['gawd', ',', 'i', \"'ve\", 'been', 'so', 'into', 'UNK', 'music', 'lately', '...', 'PAD', 'PAD', 'PAD', 'PAD', 'PAD', 'PAD', 'PAD', 'PAD']\n",
      "    input     > ['i', 'think', 'i', \"'m\", 'morphing', 'from', 'my', 'UNK', 'into', 'this', 'new', 'UNK', 'UNK', 't', 'life', '.', 'PAD', 'PAD', 'PAD']\n",
      "    predicted > ['i', 'was', 'EOS', 'PAD', 'PAD', 'PAD', 'PAD', 'PAD', 'PAD', 'PAD', 'PAD', 'PAD', 'PAD', 'PAD', 'PAD', 'PAD', 'PAD']\n",
      "  sample 3:\n",
      "    input     > ['so', 'much', 'arousal', 'and', 'fear', 'all', 'day', '.', 'PAD', 'PAD', 'PAD', 'PAD', 'PAD', 'PAD', 'PAD', 'PAD', 'PAD', 'PAD', 'PAD']\n",
      "    input     > ['my', 'body', 'was', 'so', 'primed', ',', 'pulled', 'so', 'tight', 'the', 'lightest', 'touch', 'was', 'almost', 'painful', '.', 'PAD', 'PAD', 'PAD']\n",
      "    predicted > ['i', 'was', 'EOS', '.', 'PAD', 'PAD', 'PAD', 'PAD', 'PAD', 'PAD', 'PAD', 'PAD', 'PAD', 'PAD', 'PAD', 'PAD', 'PAD']\n",
      "\n",
      "1020\n",
      "1050\n",
      "1080\n",
      "1110\n",
      "1140\n",
      "1170\n",
      "1200\n",
      "1230\n",
      "1260\n",
      "1290\n",
      "1320\n",
      "1350\n",
      "1380\n",
      "1410\n",
      "1440\n",
      "1470\n",
      "1500\n",
      "1530\n",
      "1560\n",
      "1590\n",
      "1620\n",
      "1650\n",
      "1680\n",
      "1710\n",
      "1740\n",
      "1770\n",
      "1800\n",
      "1830\n",
      "1860\n",
      "1890\n",
      "1920\n",
      "1950\n",
      "1980\n",
      "batch 2000\n",
      "  minibatch loss: 6.361737251281738\n",
      "  sample 1:\n",
      "    input     > ['what', 'you', 'might', 'become', 'is', 'a', 'mystery', '.', 'PAD', 'PAD', 'PAD', 'PAD', 'PAD', 'PAD', 'PAD', 'PAD', 'PAD', 'PAD', 'PAD', 'PAD', 'PAD', 'PAD', 'PAD', 'PAD', 'PAD', 'PAD', 'PAD', 'PAD', 'PAD']\n",
      "    input     > ['piece', 'by', 'piece', ',', 'these', 'things', 'come', 'together', '.', 'PAD', 'PAD', 'PAD', 'PAD', 'PAD', 'PAD', 'PAD', 'PAD', 'PAD', 'PAD', 'PAD', 'PAD', 'PAD', 'PAD', 'PAD', 'PAD', 'PAD', 'PAD', 'PAD', 'PAD']\n",
      "    predicted > ['i', 'was', 'EOS', '.', 'PAD', 'PAD', 'PAD', 'PAD', 'PAD', 'PAD', 'PAD', 'PAD', 'PAD', 'PAD', 'PAD', 'PAD', 'PAD', 'PAD', 'PAD', 'PAD', 'PAD', 'PAD']\n",
      "  sample 2:\n",
      "    input     > ['despite', 'what', 'transpired', 'last', 'saturday', ',', 'the', 'short-lived', 'concert', 'was', 'a', 'success', '.', 'PAD', 'PAD', 'PAD', 'PAD', 'PAD', 'PAD', 'PAD', 'PAD', 'PAD', 'PAD', 'PAD', 'PAD', 'PAD', 'PAD', 'PAD', 'PAD']\n",
      "    input     > ['it', 'was', 'so', 'heartwarming', 'how', 'each', 'and', 'every', 'one', 'who', 'attended', 'were', 'all', 'smiles', ',', 'just', 'singing', 'or', 'humming', 'along', 'with', 'ely', 'the', 'whole', 'time', '.', 'PAD', 'PAD', 'PAD']\n",
      "    predicted > ['i', 'was', 'EOS', '.', 'PAD', 'PAD', 'PAD', 'PAD', 'PAD', 'PAD', 'PAD', 'PAD', 'PAD', 'PAD', 'PAD', 'PAD', 'PAD', 'PAD', 'PAD', 'PAD', 'PAD', 'PAD']\n",
      "  sample 3:\n",
      "    input     > ['for', 'individuals', 'who', 'have', 'diabetes', ',', 'the', 'treatment', 'goals', 'for', 'a', 'diabetes', 'diet', 'are', ':', 'attain', 'and', 'maintain', 'near', 'normal', 'blood', 'glucose', 'levels', '.', 'PAD', 'PAD', 'PAD', 'PAD', 'PAD']\n",
      "    input     > ['to', 'maintain', 'your', 'diabetes', 'diet', ',', 'it', 'helps', 'to', 'determine', 'potential', 'barriers', 'and', 'the', 'means', 'to', 'break', 'through', 'them', '.', 'PAD', 'PAD', 'PAD', 'PAD', 'PAD', 'PAD', 'PAD', 'PAD', 'PAD']\n",
      "    predicted > ['i', 'was', 'EOS', '.', 'PAD', 'PAD', 'PAD', 'PAD', 'PAD', 'PAD', 'PAD', 'PAD', 'PAD', 'PAD', 'PAD', 'PAD', 'PAD', 'PAD', 'PAD', 'PAD', 'PAD', 'PAD']\n",
      "\n",
      "2010\n",
      "2040\n",
      "2070\n",
      "2100\n",
      "2130\n",
      "2160\n",
      "2190\n",
      "2220\n",
      "2250\n",
      "2280\n",
      "2310\n",
      "2340\n",
      "2370\n",
      "2400\n",
      "2430\n",
      "2460\n",
      "2490\n",
      "2520\n",
      "2550\n",
      "2580\n",
      "2610\n",
      "2640\n",
      "2670\n",
      "2700\n",
      "2730\n",
      "2760\n",
      "2790\n",
      "2820\n",
      "2850\n",
      "2880\n",
      "2910\n",
      "2940\n",
      "2970\n",
      "3000\n",
      "batch 3000\n",
      "  minibatch loss: 5.159350395202637\n",
      "  sample 1:\n",
      "    input     > ['sections', 'started', 'to', 'cheer', ',', 'or', 'talk', 'amongst', 'themselves', '.', 'PAD', 'PAD', 'PAD', 'PAD']\n",
      "    input     > ['he', 'ignored', 'them', '.', 'PAD', 'PAD', 'PAD', 'PAD', 'PAD', 'PAD', 'PAD', 'PAD', 'PAD', 'PAD']\n",
      "    predicted > ['i', ',', '.', '.', 'PAD', 'PAD', 'PAD', 'PAD', 'PAD', 'PAD', 'PAD', 'PAD']\n",
      "  sample 2:\n",
      "    input     > ['unfortunate', '.', 'PAD', 'PAD', 'PAD', 'PAD', 'PAD', 'PAD', 'PAD', 'PAD', 'PAD', 'PAD', 'PAD', 'PAD']\n",
      "    input     > ['UNK', 'her', \"'\", '.', 'PAD', 'PAD', 'PAD', 'PAD', 'PAD', 'PAD', 'PAD', 'PAD', 'PAD', 'PAD']\n",
      "    predicted > ['i', 'was', 'EOS', '.', 'PAD', 'PAD', 'PAD', 'PAD', 'PAD', 'PAD', 'PAD', 'PAD']\n",
      "  sample 3:\n",
      "    input     > ['i', 'love', 'people', 'who', 'will', 'hug', 'you', 'right', 'when', 'they', 'first', 'meet', 'you', '.']\n",
      "    input     > ['it', \"'s\", 'nice', '.', 'PAD', 'PAD', 'PAD', 'PAD', 'PAD', 'PAD', 'PAD', 'PAD', 'PAD', 'PAD']\n",
      "    predicted > ['i', 'was', 'EOS', '.', 'PAD', 'PAD', 'PAD', 'PAD', 'PAD', 'PAD', 'PAD', 'PAD']\n",
      "\n",
      "3030\n",
      "3060\n",
      "3090\n",
      "3120\n",
      "3150\n",
      "3180\n",
      "3210\n",
      "3240\n",
      "training interrupted\n"
     ]
    }
   ],
   "source": [
    "import data\n",
    "loss_track = []\n",
    "\n",
    "batches_in_epoch = 1000\n",
    "v, iv = data.vocab()\n",
    "iv[0]='PAD'\n",
    "iv[1]='EOS'\n",
    "iv[2]='UNK'\n",
    "\n",
    "try:\n",
    "    for batch in range(max_batches):\n",
    "        fd = next_feed2(batch)\n",
    "        _, l = sess.run([train_op, loss], fd)\n",
    "        loss_track.append(l)\n",
    "        if(batch%30==0):\n",
    "            print(batch)\n",
    "        if batch == 0 or batch % batches_in_epoch == 0:\n",
    "            print('batch {}'.format(batch))\n",
    "            print('  minibatch loss: {}'.format(sess.run(loss, fd)))\n",
    "            predict_ = sess.run(decoder_prediction, fd)\n",
    "            for i, (inp1, inp2, pred) in enumerate(zip(fd[encoder_inputs].T, fd[encoder_inputs2].T, predict_.T)):\n",
    "                print('  sample {}:'.format(i + 1))\n",
    "                print('    input     > {}'.format([iv[x] for x in inp1]))\n",
    "                print('    input     > {}'.format([iv[x] for x in inp2]))\n",
    "                print('    predicted > {}'.format([iv[x] for x in pred]))\n",
    "                if i >= 2:\n",
    "                    break\n",
    "            print()\n",
    "\n",
    "except KeyboardInterrupt:\n",
    "    print('training interrupted')"
   ]
  },
  {
   "cell_type": "code",
   "execution_count": 43,
   "metadata": {},
   "outputs": [
    {
     "name": "stdout",
     "output_type": "stream",
     "text": [
      "loss 5.5017 after Tensor(\"mul:0\", shape=(), dtype=int32) examples (batch_size=Tensor(\"unstack:1\", shape=(), dtype=int32))\n"
     ]
    },
    {
     "data": {
      "image/png": "[encoded data removed]",
      "text/plain": [
       "<matplotlib.figure.Figure at 0x7fd33c69e198>"
      ]
     },
     "metadata": {},
     "output_type": "display_data"
    }
   ],
   "source": [
    "%matplotlib inline\n",
    "import matplotlib.pyplot as plt\n",
    "plt.plot(loss_track)\n",
    "print('loss {:.4f} after {} examples (batch_size={})'.format(loss_track[-1], len(loss_track)*batch_size, batch_size))"
   ]
  },
  {
   "cell_type": "markdown",
   "metadata": {},
   "source": [
    "# Beam Search"
   ]
  },
  {
   "cell_type": "code",
   "execution_count": 52,
   "metadata": {},
   "outputs": [
    {
     "ename": "ValueError",
     "evalue": "State should be a sequence or tensor",
     "output_type": "error",
     "traceback": [
      "\u001b[0;31m---------------------------------------------------------------------------\u001b[0m",
      "\u001b[0;31mValueError\u001b[0m                                Traceback (most recent call last)",
      "\u001b[0;32m<ipython-input-52-6051be2ae657>\u001b[0m in \u001b[0;36m<module>\u001b[0;34m()\u001b[0m\n\u001b[1;32m      6\u001b[0m     \u001b[0minitial_state\u001b[0m\u001b[0;34m=\u001b[0m\u001b[0mprojected_state\u001b[0m\u001b[0;34m.\u001b[0m\u001b[0mc\u001b[0m\u001b[0;34m,\u001b[0m\u001b[0;34m\u001b[0m\u001b[0m\n\u001b[1;32m      7\u001b[0m     \u001b[0minitial_input\u001b[0m\u001b[0;34m=\u001b[0m\u001b[0mEOS\u001b[0m\u001b[0;34m,\u001b[0m\u001b[0;34m\u001b[0m\u001b[0m\n\u001b[0;32m----> 8\u001b[0;31m     \u001b[0mtokens_to_inputs_fn\u001b[0m\u001b[0;34m=\u001b[0m\u001b[0;32mlambda\u001b[0m \u001b[0mtokens\u001b[0m\u001b[0;34m:\u001b[0m \u001b[0mtf\u001b[0m\u001b[0;34m.\u001b[0m\u001b[0mnn\u001b[0m\u001b[0;34m.\u001b[0m\u001b[0membedding_lookup\u001b[0m\u001b[0;34m(\u001b[0m\u001b[0membeddings\u001b[0m\u001b[0;34m,\u001b[0m \u001b[0mtokens\u001b[0m\u001b[0;34m)\u001b[0m\u001b[0;34m,\u001b[0m\u001b[0;34m\u001b[0m\u001b[0m\n\u001b[0m\u001b[1;32m      9\u001b[0m )\n\u001b[1;32m     10\u001b[0m \u001b[0;31m# isinstance(projected_state.c, tf.Tensor)\u001b[0m\u001b[0;34m\u001b[0m\u001b[0;34m\u001b[0m\u001b[0m\n",
      "\u001b[0;32m/projects/nlds/people/shobhit/tensorflow-seq2seq-tutorials/tf_beam_decoder.py\u001b[0m in \u001b[0;36mbeam_decoder\u001b[0;34m(cell, beam_size, stop_token, initial_state, initial_input, tokens_to_inputs_fn, outputs_to_score_fn, score_upper_bound, max_len, cell_transform, output_dense, scope)\u001b[0m\n\u001b[1;32m    642\u001b[0m             \u001b[0mmax_len\u001b[0m\u001b[0;34m=\u001b[0m\u001b[0mmax_len\u001b[0m\u001b[0;34m,\u001b[0m\u001b[0;34m\u001b[0m\u001b[0m\n\u001b[1;32m    643\u001b[0m             \u001b[0mcell_transform\u001b[0m\u001b[0;34m=\u001b[0m\u001b[0mcell_transform\u001b[0m\u001b[0;34m,\u001b[0m\u001b[0;34m\u001b[0m\u001b[0m\n\u001b[0;32m--> 644\u001b[0;31m             \u001b[0mscope\u001b[0m\u001b[0;34m=\u001b[0m\u001b[0mvarscope\u001b[0m\u001b[0;34m\u001b[0m\u001b[0m\n\u001b[0m\u001b[1;32m    645\u001b[0m         )\n\u001b[1;32m    646\u001b[0m \u001b[0;34m\u001b[0m\u001b[0m\n",
      "\u001b[0;32m/projects/nlds/people/shobhit/tensorflow-seq2seq-tutorials/tf_beam_decoder.py\u001b[0m in \u001b[0;36m__init__\u001b[0;34m(self, cell, beam_size, stop_token, initial_state, initial_input, score_upper_bound, max_len, outputs_to_score_fn, tokens_to_inputs_fn, cell_transform, scope)\u001b[0m\n\u001b[1;32m    332\u001b[0m             \u001b[0mself\u001b[0m\u001b[0;34m.\u001b[0m\u001b[0mcell\u001b[0m \u001b[0;34m=\u001b[0m \u001b[0mBeamFlattenWrapper\u001b[0m\u001b[0;34m(\u001b[0m\u001b[0mcell\u001b[0m\u001b[0;34m,\u001b[0m \u001b[0mself\u001b[0m\u001b[0;34m.\u001b[0m\u001b[0mbeam_size\u001b[0m\u001b[0;34m)\u001b[0m\u001b[0;34m\u001b[0m\u001b[0m\n\u001b[1;32m    333\u001b[0m             \u001b[0mself\u001b[0m\u001b[0;34m.\u001b[0m\u001b[0minitial_state\u001b[0m \u001b[0;34m=\u001b[0m \u001b[0mself\u001b[0m\u001b[0;34m.\u001b[0m\u001b[0mcell\u001b[0m\u001b[0;34m.\u001b[0m\u001b[0mtile_along_beam\u001b[0m\u001b[0;34m(\u001b[0m\u001b[0minitial_state\u001b[0m\u001b[0;34m)\u001b[0m\u001b[0;34m\u001b[0m\u001b[0m\n\u001b[0;32m--> 334\u001b[0;31m             \u001b[0mself\u001b[0m\u001b[0;34m.\u001b[0m\u001b[0minitial_input\u001b[0m \u001b[0;34m=\u001b[0m \u001b[0mself\u001b[0m\u001b[0;34m.\u001b[0m\u001b[0mcell\u001b[0m\u001b[0;34m.\u001b[0m\u001b[0mtile_along_beam\u001b[0m\u001b[0;34m(\u001b[0m\u001b[0minitial_input\u001b[0m\u001b[0;34m)\u001b[0m\u001b[0;34m\u001b[0m\u001b[0m\n\u001b[0m\u001b[1;32m    335\u001b[0m         \u001b[0;32melif\u001b[0m \u001b[0mcell_transform\u001b[0m \u001b[0;34m==\u001b[0m \u001b[0;34m'replicate'\u001b[0m\u001b[0;34m:\u001b[0m\u001b[0;34m\u001b[0m\u001b[0m\n\u001b[1;32m    336\u001b[0m             \u001b[0mself\u001b[0m\u001b[0;34m.\u001b[0m\u001b[0mcell\u001b[0m \u001b[0;34m=\u001b[0m \u001b[0mBeamReplicateWrapper\u001b[0m\u001b[0;34m(\u001b[0m\u001b[0mcell\u001b[0m\u001b[0;34m,\u001b[0m \u001b[0mself\u001b[0m\u001b[0;34m.\u001b[0m\u001b[0mbeam_size\u001b[0m\u001b[0;34m)\u001b[0m\u001b[0;34m\u001b[0m\u001b[0m\n",
      "\u001b[0;32m/projects/nlds/people/shobhit/tensorflow-seq2seq-tutorials/tf_beam_decoder.py\u001b[0m in \u001b[0;36mtile_along_beam\u001b[0;34m(self, state)\u001b[0m\n\u001b[1;32m    168\u001b[0m \u001b[0;34m\u001b[0m\u001b[0m\n\u001b[1;32m    169\u001b[0m         \u001b[0;32mif\u001b[0m \u001b[0;32mnot\u001b[0m \u001b[0misinstance\u001b[0m\u001b[0;34m(\u001b[0m\u001b[0mstate\u001b[0m\u001b[0;34m,\u001b[0m \u001b[0mtf\u001b[0m\u001b[0;34m.\u001b[0m\u001b[0mTensor\u001b[0m\u001b[0;34m)\u001b[0m\u001b[0;34m:\u001b[0m\u001b[0;34m\u001b[0m\u001b[0m\n\u001b[0;32m--> 170\u001b[0;31m             \u001b[0;32mraise\u001b[0m \u001b[0mValueError\u001b[0m\u001b[0;34m(\u001b[0m\u001b[0;34m\"State should be a sequence or tensor\"\u001b[0m\u001b[0;34m)\u001b[0m\u001b[0;34m\u001b[0m\u001b[0m\n\u001b[0m\u001b[1;32m    171\u001b[0m \u001b[0;34m\u001b[0m\u001b[0m\n\u001b[1;32m    172\u001b[0m         \u001b[0mtensor\u001b[0m \u001b[0;34m=\u001b[0m \u001b[0mstate\u001b[0m\u001b[0;34m\u001b[0m\u001b[0m\n",
      "\u001b[0;31mValueError\u001b[0m: State should be a sequence or tensor"
     ]
    }
   ],
   "source": [
    "from tf_beam_decoder import beam_decoder\n",
    "decoded_sparse, decoded_logprobs = beam_decoder(\n",
    "    cell=decoder_cell,\n",
    "    beam_size=7,\n",
    "    stop_token=PAD,\n",
    "    initial_state=projected_state.c,\n",
    "    initial_input=EOS,\n",
    "    tokens_to_inputs_fn=lambda tokens: tf.nn.embedding_lookup(embeddings, tokens),\n",
    ")\n",
    "# isinstance(projected_state.c, tf.Tensor)"
   ]
  },
  {
   "cell_type": "code",
   "execution_count": 39,
   "metadata": {},
   "outputs": [
    {
     "ename": "ValueError",
     "evalue": "Size must be provided if handle is not provided",
     "output_type": "error",
     "traceback": [
      "\u001b[0;31m---------------------------------------------------------------------------\u001b[0m",
      "\u001b[0;31mValueError\u001b[0m                                Traceback (most recent call last)",
      "\u001b[0;32m<ipython-input-39-5121a7504470>\u001b[0m in \u001b[0;36m<module>\u001b[0;34m()\u001b[0m\n\u001b[1;32m     75\u001b[0m     \u001b[0;32mreturn\u001b[0m \u001b[0;34m(\u001b[0m\u001b[0memit_ta\u001b[0m\u001b[0;34m,\u001b[0m \u001b[0mstate\u001b[0m\u001b[0;34m,\u001b[0m \u001b[0mloop_state\u001b[0m\u001b[0;34m)\u001b[0m\u001b[0;34m\u001b[0m\u001b[0m\n\u001b[1;32m     76\u001b[0m \u001b[0;34m\u001b[0m\u001b[0m\n\u001b[0;32m---> 77\u001b[0;31m \u001b[0mdecoder_outputs_ta\u001b[0m\u001b[0;34m,\u001b[0m \u001b[0mdecoder_final_state\u001b[0m\u001b[0;34m,\u001b[0m \u001b[0m_\u001b[0m \u001b[0;34m=\u001b[0m \u001b[0mcustom_rnn\u001b[0m\u001b[0;34m(\u001b[0m\u001b[0mdecoder_cell\u001b[0m\u001b[0;34m,\u001b[0m \u001b[0mloop_fn\u001b[0m\u001b[0;34m)\u001b[0m\u001b[0;34m\u001b[0m\u001b[0m\n\u001b[0m\u001b[1;32m     78\u001b[0m \u001b[0mdecoder_outputs\u001b[0m \u001b[0;34m=\u001b[0m \u001b[0mdecoder_outputs_ta\u001b[0m\u001b[0;34m.\u001b[0m\u001b[0mstack\u001b[0m\u001b[0;34m(\u001b[0m\u001b[0;34m)\u001b[0m\u001b[0;34m\u001b[0m\u001b[0m\n\u001b[1;32m     79\u001b[0m \u001b[0;34m\u001b[0m\u001b[0m\n",
      "\u001b[0;32m<ipython-input-39-5121a7504470>\u001b[0m in \u001b[0;36mcustom_rnn\u001b[0;34m(cell, loop_fn, parallel_iterations, swap_memory, scope)\u001b[0m\n\u001b[1;32m     56\u001b[0m     (finished, next_input, initial_state, _, loop_state) = loop_fn(\n\u001b[1;32m     57\u001b[0m         time=time, previous_output=None, previous_state=None, previous_loop_state=None, k=0)\n\u001b[0;32m---> 58\u001b[0;31m     \u001b[0memit_ta\u001b[0m \u001b[0;34m=\u001b[0m \u001b[0mtf\u001b[0m\u001b[0;34m.\u001b[0m\u001b[0mTensorArray\u001b[0m\u001b[0;34m(\u001b[0m\u001b[0mdynamic_size\u001b[0m\u001b[0;34m=\u001b[0m\u001b[0;32mTrue\u001b[0m\u001b[0;34m,\u001b[0m \u001b[0mdtype\u001b[0m\u001b[0;34m=\u001b[0m\u001b[0minitial_state\u001b[0m\u001b[0;34m.\u001b[0m\u001b[0mdtype\u001b[0m\u001b[0;34m)\u001b[0m\u001b[0;34m\u001b[0m\u001b[0m\n\u001b[0m\u001b[1;32m     59\u001b[0m     \u001b[0mstate\u001b[0m \u001b[0;34m=\u001b[0m \u001b[0minitial_state\u001b[0m\u001b[0;34m\u001b[0m\u001b[0m\n\u001b[1;32m     60\u001b[0m     \u001b[0;32mwhile\u001b[0m \u001b[0;32mnot\u001b[0m \u001b[0mall\u001b[0m\u001b[0;34m(\u001b[0m\u001b[0mfinished\u001b[0m\u001b[0;34m)\u001b[0m\u001b[0;34m:\u001b[0m\u001b[0;34m\u001b[0m\u001b[0m\n",
      "\u001b[0;32m/projects/nlds/people/shobhit/tensorflow-seq2seq-tutorials/venv/lib/python3.4/site-packages/tensorflow/python/ops/tensor_array_ops.py\u001b[0m in \u001b[0;36m__init__\u001b[0;34m(self, dtype, size, dynamic_size, clear_after_read, tensor_array_name, handle, flow, infer_shape, element_shape, name)\u001b[0m\n\u001b[1;32m    133\u001b[0m       \u001b[0;32mraise\u001b[0m \u001b[0mTypeError\u001b[0m\u001b[0;34m(\u001b[0m\u001b[0;34m\"Handle must be a Tensor\"\u001b[0m\u001b[0;34m)\u001b[0m\u001b[0;34m\u001b[0m\u001b[0m\n\u001b[1;32m    134\u001b[0m     \u001b[0;32mif\u001b[0m \u001b[0mhandle\u001b[0m \u001b[0;32mis\u001b[0m \u001b[0;32mNone\u001b[0m \u001b[0;32mand\u001b[0m \u001b[0msize\u001b[0m \u001b[0;32mis\u001b[0m \u001b[0;32mNone\u001b[0m\u001b[0;34m:\u001b[0m\u001b[0;34m\u001b[0m\u001b[0m\n\u001b[0;32m--> 135\u001b[0;31m       \u001b[0;32mraise\u001b[0m \u001b[0mValueError\u001b[0m\u001b[0;34m(\u001b[0m\u001b[0;34m\"Size must be provided if handle is not provided\"\u001b[0m\u001b[0;34m)\u001b[0m\u001b[0;34m\u001b[0m\u001b[0m\n\u001b[0m\u001b[1;32m    136\u001b[0m     \u001b[0;32mif\u001b[0m \u001b[0mhandle\u001b[0m \u001b[0;32mis\u001b[0m \u001b[0;32mnot\u001b[0m \u001b[0;32mNone\u001b[0m \u001b[0;32mand\u001b[0m \u001b[0msize\u001b[0m \u001b[0;32mis\u001b[0m \u001b[0;32mnot\u001b[0m \u001b[0;32mNone\u001b[0m\u001b[0;34m:\u001b[0m\u001b[0;34m\u001b[0m\u001b[0m\n\u001b[1;32m    137\u001b[0m       raise ValueError(\"Cannot provide both a handle and size \"\n",
      "\u001b[0;31mValueError\u001b[0m: Size must be provided if handle is not provided"
     ]
    }
   ],
   "source": [
    "beam_size=5\n",
    "\n",
    "def loop_fn_initial():\n",
    "    initial_elements_finished = (0 >= decoder_lengths)  # all False at the initial step\n",
    "    initial_input = eos_step_embedded\n",
    "    initial_cell_state = encoder_final_state\n",
    "    initial_cell_output = None\n",
    "    initial_loop_state = None  # we don't need to pass any additional information\n",
    "    return (initial_elements_finished,\n",
    "            initial_input,\n",
    "            initial_cell_state,\n",
    "            initial_cell_output,\n",
    "            initial_loop_state)\n",
    "def loop_fn_transition(time, previous_output, previous_state, previous_loop_state, k):\n",
    "    \n",
    "    def get_next_input():\n",
    "        output_logits = tf.add(tf.matmul(previous_output, W), b)\n",
    "        prediction = tf.argmax(output_logits, axis=1)\n",
    "        \n",
    "        best_probs, indices = tf.nn.top_k(logits, beam_size)\n",
    "        prediction = indices[-1]#TODO\n",
    "        \n",
    "        assert tf.argmax(output_logits, axis=1) == indices[0]\n",
    "        \n",
    "        next_input = tf.nn.embedding_lookup(embeddings, prediction)\n",
    "        return next_input\n",
    "    \n",
    "    elements_finished = (time >= decoder_lengths) # this operation produces boolean tensor of [batch_size]\n",
    "                                                  # defining if corresponding sequence has ended\n",
    "\n",
    "    finished = tf.reduce_all(elements_finished) # -> boolean scalar\n",
    "    input = tf.cond(finished, lambda: pad_step_embedded, get_next_input)\n",
    "    state = previous_state\n",
    "    output = previous_output\n",
    "    loop_state = None\n",
    "\n",
    "    return (elements_finished, \n",
    "            input,\n",
    "            state,\n",
    "            output,\n",
    "            loop_state)\n",
    "def loop_fn(time, previous_output, previous_state, previous_loop_state, k):\n",
    "    if previous_state is None:    # time == 0\n",
    "        assert previous_output is None and previous_state is None\n",
    "        return loop_fn_initial()\n",
    "    else:\n",
    "        return loop_fn_transition(time, previous_output, previous_state, previous_loop_state, k)\n",
    "\n",
    "def custom_rnn(cell,\n",
    "    loop_fn,\n",
    "    parallel_iterations=None,\n",
    "    swap_memory=False,\n",
    "    scope=None):\n",
    "    \n",
    "    time = tf.constant(0, dtype=tf.int32)\n",
    "    (finished, next_input, initial_state, _, loop_state) = loop_fn(\n",
    "        time=time, previous_output=None, previous_state=None, previous_loop_state=None, k=0)\n",
    "    emit_ta = tf.TensorArray(dynamic_size=True, dtype=initial_state.dtype)\n",
    "    state = initial_state\n",
    "    while not all(finished):\n",
    "        (output, cell_state) = cell(next_input, state)\n",
    "        \n",
    "        \n",
    "        (next_finished, next_input, next_state, emit, loop_state) = loop_fn(\n",
    "            time=time + 1, previous_output=output, previous_state=cell_state,\n",
    "            previous_loop_state=loop_state, k=0)\n",
    "        \n",
    "        # Emit zeros and copy forward state for minibatch entries that are finished.\n",
    "        state = tf.where(finished, state, next_state)\n",
    "        emit = tf.where(finished, tf.zeros_like(emit), emit)\n",
    "        emit_ta = emit_ta.write(time, emit)\n",
    "        # If any new minibatch entries are marked as finished, mark these.\n",
    "        finished = tf.logical_or(finished, next_finished)\n",
    "        time += 1\n",
    "    return (emit_ta, state, loop_state)\n",
    "    \n",
    "decoder_outputs_ta, decoder_final_state, _ = custom_rnn(decoder_cell, loop_fn)\n",
    "decoder_outputs = decoder_outputs_ta.stack()\n",
    "\n",
    "    \n",
    "decoder_max_steps, decoder_batch_size, decoder_dim = tf.unstack(tf.shape(decoder_outputs))\n",
    "decoder_outputs_flat = tf.reshape(decoder_outputs, (-1, decoder_dim))\n",
    "decoder_logits_flat = tf.add(tf.matmul(decoder_outputs_flat, W), b)\n",
    "decoder_logits = tf.reshape(decoder_logits_flat, (decoder_max_steps, decoder_batch_size, vocab_size))\n",
    "decoder_prediction = tf.argmax(decoder_logits, 2)\n",
    "\n",
    "stepwise_cross_entropy = tf.nn.softmax_cross_entropy_with_logits(\n",
    "    labels=tf.one_hot(decoder_targets, depth=vocab_size, dtype=tf.float32),\n",
    "    logits=decoder_logits,\n",
    ")\n",
    "\n",
    "loss = tf.reduce_mean(stepwise_cross_entropy)\n",
    "train_op = tf.train.AdamOptimizer().minimize(loss)\n",
    "\n",
    "sess.run(tf.global_variables_initializer())\n",
    "batch_size = 100\n",
    "\n",
    "batches = helpers.random_sequences(length_from=3, length_to=8,\n",
    "                                   vocab_lower=2, vocab_upper=10,\n",
    "                                   batch_size=batch_size)\n",
    "\n",
    "print('head of the batch:')\n",
    "for seq in next(batches)[:10]:\n",
    "    print(seq)\n",
    "def add(batch1, batch2):\n",
    "    targetSeq = []\n",
    "    for i in range(0, max(len(batch1), len(batch2))):\n",
    "        if i >=len(batch1):\n",
    "            targetSeq.append((int)(batch2[i]/2))\n",
    "        elif i >=len(batch2):\n",
    "            targetSeq.append((int)(batch1[i])/2)\n",
    "        else:\n",
    "            targetSeq.append((int)((batch1[i]+batch2[i])/2))\n",
    "    return targetSeq\n",
    "def next_feed():\n",
    "    batch1 = next(batches)\n",
    "    batch2 = next(batches)\n",
    "    encoder_inputs_1, encoder_input_lengths_1 = helpers.batch(batch1)\n",
    "    encoder_inputs_2, encoder_input_lengths_2 = helpers.batch(batch2)\n",
    "    \n",
    "    decoder_targets_, _ = helpers.batch(\n",
    "    [add(x,y)  + [EOS] + [PAD] * 2 for x,y in zip(batch1, batch2)]\n",
    "    )\n",
    "    return {\n",
    "        encoder_inputs: encoder_inputs_1,\n",
    "        encoder_inputs_length: encoder_input_lengths_1,\n",
    "        encoder_inputs2: encoder_inputs_2,\n",
    "        encoder_inputs_length2: encoder_input_lengths_2,\n",
    "        decoder_targets: decoder_targets_,\n",
    "    }\n",
    "loss_track = []\n",
    "max_batches = 3001\n",
    "batches_in_epoch = 1000\n",
    "\n",
    "try:\n",
    "    for batch in range(max_batches):\n",
    "        fd = next_feed()\n",
    "        _, l = sess.run([train_op, loss], fd)\n",
    "        loss_track.append(l)\n",
    "\n",
    "        if batch == 0 or batch % batches_in_epoch == 0:\n",
    "            print('batch {}'.format(batch))\n",
    "            print('  minibatch loss: {}'.format(sess.run(loss, fd)))\n",
    "            predict_ = sess.run(decoder_prediction, fd)\n",
    "            for i, (inp1, inp2, pred) in enumerate(zip(fd[encoder_inputs].T, fd[encoder_inputs2].T, predict_.T)):\n",
    "                print('  sample {}:'.format(i + 1))\n",
    "                print('    input     > {}'.format(inp1))\n",
    "                print('    input     > {}'.format(inp2))\n",
    "                print('    predicted > {}'.format(pred))\n",
    "                if i >= 2:\n",
    "                    break\n",
    "            print()\n",
    "\n",
    "except KeyboardInterrupt:\n",
    "    print('training interrupted')"
   ]
  }
 ],
 "metadata": {
  "kernelspec": {
   "display_name": "Python 3",
   "language": "python",
   "name": "python3"
  },
  "language_info": {
   "codemirror_mode": {
    "name": "ipython",
    "version": 3
   },
   "file_extension": ".py",
   "mimetype": "text/x-python",
   "name": "python",
   "nbconvert_exporter": "python",
   "pygments_lexer": "ipython3",
   "version": "3.4.5"
  }
 },
 "nbformat": 4,
 "nbformat_minor": 2
}
